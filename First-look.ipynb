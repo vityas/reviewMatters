{
 "cells": [
  {
   "cell_type": "markdown",
   "metadata": {},
   "source": [
    "# Scraping the data\n",
    "\n",
    "## Do not run"
   ]
  },
  {
   "cell_type": "code",
   "execution_count": 70,
   "metadata": {},
   "outputs": [],
   "source": [
    "import pandas as pd\n",
    "import numpy as np\n",
    "import gzip\n",
    "import datetime\n",
    "import requests\n",
    "import sys\n",
    "import os\n",
    "from glob import glob\n",
    "from StringIO import StringIO\n",
    "from PIL import Image\n",
    "\n",
    "# import pickle"
   ]
  },
  {
   "cell_type": "markdown",
   "metadata": {},
   "source": [
    "We first define parsing fucntions that take the gzipped JSON files from \n",
    "http://jmcauley.ucsd.edu/data/amazon/\n",
    "to get pandas data frame use\n",
    "\n",
    "    Pandas_df = getDF(path, N = Nuber_of_lines)\n",
    "    \n"
   ]
  },
  {
   "cell_type": "code",
   "execution_count": 71,
   "metadata": {},
   "outputs": [],
   "source": [
    "def parse(path):\n",
    "    g = gzip.open(path, 'rb')\n",
    "    for l in g:\n",
    "        yield eval(l)\n",
    "\n",
    "def getDF(path, N= int(1e9) ):\n",
    "    print 'Getting first %d lines of ./%s' % (N,path)\n",
    "    i = 0\n",
    "    df = {}\n",
    "    for d in parse(path):\n",
    "        if i < N:\n",
    "            df[i] = d\n",
    "            i += 1\n",
    "        else:\n",
    "            break\n",
    "    return pd.DataFrame.from_dict(df, orient='index')"
   ]
  },
  {
   "cell_type": "code",
   "execution_count": 107,
   "metadata": {},
   "outputs": [],
   "source": [
    "paths  = [  'data/reviews/reviews_Baby_5.json.gz',\n",
    "            'data/reviews/reviews_Beauty_5.json.gz',\n",
    "            'data/reviews/reviews_Electronics_5.json.gz',\n",
    "            'data/reviews/reviews_Sports_and_Outdoors_5.json.gz',\n",
    "            'data/reviews/reviews_Musical_Instruments_5.json.gz']\n",
    "\n",
    "paths_r  = ['data/reviews/ratings_Baby.csv',\n",
    "            'data/reviews/ratings_Beauty.csv',\n",
    "            'data/reviews/ratings_Electronics.csv',\n",
    "            'data/reviews/ratings_Sports_and_Outdoors.csv',\n",
    "            'data/reviews/ratings_Musical_Instruments.csv']\n",
    "\n",
    "path = paths[0]\n",
    "path_r = paths_r[0]\n"
   ]
  },
  {
   "cell_type": "code",
   "execution_count": 108,
   "metadata": {},
   "outputs": [
    {
     "name": "stdout",
     "output_type": "stream",
     "text": [
      "Getting first 1000000000 lines of ./data/reviews/reviews_Baby_5.json.gz\n"
     ]
    }
   ],
   "source": [
    "## if slow\n",
    "## first N lines: getDF(path, N)\n",
    "df = getDF(path)"
   ]
  },
  {
   "cell_type": "code",
   "execution_count": 109,
   "metadata": {},
   "outputs": [
    {
     "name": "stdout",
     "output_type": "stream",
     "text": [
      "7050\n"
     ]
    },
    {
     "data": {
      "text/plain": [
       "B000IDSLOG    780\n",
       "B00295MQLU    653\n",
       "B000YDDF6O    587\n",
       "B0000DEW8N    497\n",
       "B001U9OUYC    447\n",
       "Name: asin, dtype: int64"
      ]
     },
     "execution_count": 109,
     "metadata": {},
     "output_type": "execute_result"
    }
   ],
   "source": [
    "# Define items by ASIN\n",
    "items = df.asin.value_counts()\n",
    "item_names = list(items.index.get_values())\n",
    "print len(item_names)\n",
    "items.head()"
   ]
  },
  {
   "cell_type": "code",
   "execution_count": 110,
   "metadata": {},
   "outputs": [
    {
     "name": "stdout",
     "output_type": "stream",
     "text": [
      "data/reviews/counts_reviews_Baby.csv\n",
      "You are about to save 7050 items to the path :\n",
      " \t <data/reviews/counts_reviews_Baby.csv>\n",
      "Do you want to save? : \n",
      "Enter for \"No\"yes\n",
      "Saved\n"
     ]
    }
   ],
   "source": [
    "#### Save ######\n",
    "# check the path !!!\n",
    "path_to_save_count = path.replace('_5.json.gz', '.csv').replace('reviews_', 'counts_reviews_')\n",
    "print path_to_save_count \n",
    "\n",
    "def query(question, default = 'No'):\n",
    "    yes = {'yes','y', 'ye'}\n",
    "    print question, ': '\n",
    "    choice = raw_input('Enter for \"No\"').lower()\n",
    "    if choice in yes:\n",
    "        return True\n",
    "    else:\n",
    "        return False\n",
    "\n",
    "print 'You are about to save {} items to the path :\\n \\t <{}>'.format(len(items),path_to_save_count)\n",
    "    \n",
    "if  os.path.exists(path_to_save_count):\n",
    "    print '••• This path already exists •••'\n",
    "\n",
    "    \n",
    "if query('Do you want to save?'):\n",
    "    items.to_csv( path_to_save_count)\n",
    "    print \"Saved\"\n",
    "else:\n",
    "    print 'Not saved'\n"
   ]
  },
  {
   "cell_type": "code",
   "execution_count": 111,
   "metadata": {},
   "outputs": [
    {
     "name": "stdout",
     "output_type": "stream",
     "text": [
      "144 Mb\n",
      "There are 20154 objects in the picture folder\n"
     ]
    }
   ],
   "source": [
    "# Size of obeject and filenames\n",
    "\n",
    "print  sys.getsizeof(df)/2**20, 'Mb'\n",
    "\n",
    "filenames = [os.path.basename(i)[:-4] for i in glob('data/price_history/new/*.png',)]\n",
    "print 'There are %d objects in the picture folder' % len(filenames)"
   ]
  },
  {
   "cell_type": "markdown",
   "metadata": {},
   "source": [
    "### Analyze ratings"
   ]
  },
  {
   "cell_type": "code",
   "execution_count": 112,
   "metadata": {},
   "outputs": [
    {
     "data": {
      "text/plain": [
       "'data/reviews/ratings_Baby.csv'"
      ]
     },
     "execution_count": 112,
     "metadata": {},
     "output_type": "execute_result"
    }
   ],
   "source": [
    "path_r"
   ]
  },
  {
   "cell_type": "code",
   "execution_count": 113,
   "metadata": {},
   "outputs": [
    {
     "name": "stdout",
     "output_type": "stream",
     "text": [
      "113 Mb\n"
     ]
    },
    {
     "data": {
      "text/html": [
       "<div>\n",
       "<style scoped>\n",
       "    .dataframe tbody tr th:only-of-type {\n",
       "        vertical-align: middle;\n",
       "    }\n",
       "\n",
       "    .dataframe tbody tr th {\n",
       "        vertical-align: top;\n",
       "    }\n",
       "\n",
       "    .dataframe thead th {\n",
       "        text-align: right;\n",
       "    }\n",
       "</style>\n",
       "<table border=\"1\" class=\"dataframe\">\n",
       "  <thead>\n",
       "    <tr style=\"text-align: right;\">\n",
       "      <th></th>\n",
       "      <th>User</th>\n",
       "      <th>ASIN</th>\n",
       "      <th>Rating</th>\n",
       "      <th>Timestamp</th>\n",
       "    </tr>\n",
       "  </thead>\n",
       "  <tbody>\n",
       "    <tr>\n",
       "      <th>0</th>\n",
       "      <td>A28O3NP6WR5517</td>\n",
       "      <td>0188399313</td>\n",
       "      <td>5.0</td>\n",
       "      <td>1369612800</td>\n",
       "    </tr>\n",
       "    <tr>\n",
       "      <th>1</th>\n",
       "      <td>AX0M1Z6ZWO52J</td>\n",
       "      <td>0188399399</td>\n",
       "      <td>5.0</td>\n",
       "      <td>1365465600</td>\n",
       "    </tr>\n",
       "    <tr>\n",
       "      <th>2</th>\n",
       "      <td>A1KD7N84L7NIUT</td>\n",
       "      <td>0188399518</td>\n",
       "      <td>4.0</td>\n",
       "      <td>1392336000</td>\n",
       "    </tr>\n",
       "    <tr>\n",
       "      <th>3</th>\n",
       "      <td>A29CUDEIF4X1UO</td>\n",
       "      <td>0188399518</td>\n",
       "      <td>3.0</td>\n",
       "      <td>1373241600</td>\n",
       "    </tr>\n",
       "    <tr>\n",
       "      <th>4</th>\n",
       "      <td>A32592TYN6C9EM</td>\n",
       "      <td>0316967297</td>\n",
       "      <td>4.0</td>\n",
       "      <td>1378425600</td>\n",
       "    </tr>\n",
       "  </tbody>\n",
       "</table>\n",
       "</div>"
      ],
      "text/plain": [
       "             User        ASIN  Rating   Timestamp\n",
       "0  A28O3NP6WR5517  0188399313     5.0  1369612800\n",
       "1   AX0M1Z6ZWO52J  0188399399     5.0  1365465600\n",
       "2  A1KD7N84L7NIUT  0188399518     4.0  1392336000\n",
       "3  A29CUDEIF4X1UO  0188399518     3.0  1373241600\n",
       "4  A32592TYN6C9EM  0316967297     4.0  1378425600"
      ]
     },
     "execution_count": 113,
     "metadata": {},
     "output_type": "execute_result"
    }
   ],
   "source": [
    "columns = ['User', 'ASIN', 'Rating', 'Timestamp']\n",
    "ratings_df = pd.read_csv(path_r, header=None, names = columns)\n",
    "print sys.getsizeof(ratings_df)/2**20, 'Mb'\n",
    "ratings_df.head()\n",
    "# "
   ]
  },
  {
   "cell_type": "code",
   "execution_count": 114,
   "metadata": {},
   "outputs": [],
   "source": [
    "r = ratings_df.ASIN.value_counts()"
   ]
  },
  {
   "cell_type": "code",
   "execution_count": 115,
   "metadata": {},
   "outputs": [
    {
     "name": "stdout",
     "output_type": "stream",
     "text": [
      "total items with 5+ reviews: 7050, and 10+: 3737, ratings>50: 3551\n",
      "intersection is  3330\n"
     ]
    }
   ],
   "source": [
    "# intersection if indexes such that \n",
    "#  reviews >4, ratings>50\n",
    "print 'total items with 5+ reviews: %d, and 10+: %d, ratings>50: %d' % (len(items), len(items[items>10]),len(r[r>50]))\n",
    "idx = items[items>4].index.intersection(r[r>50].index)\n",
    "print 'intersection is ', len(items[idx])\n"
   ]
  },
  {
   "cell_type": "markdown",
   "metadata": {},
   "source": [
    "# Scrap"
   ]
  },
  {
   "cell_type": "code",
   "execution_count": 711,
   "metadata": {},
   "outputs": [],
   "source": [
    "def getImage(asin,  tag =  'new', time_sleep = 5):\n",
    "    if len(asin)==10:\n",
    "\n",
    "        image_name = 'data/price_history/%s/%s.png' % (tag,asin)\n",
    "        if os.path.exists('data/price_history/'+tag):\n",
    "            url = r'https://charts.camelcamelcamel.com/us/%s/%s.png?force=1&zero=1&w=1000&h=500&desired=false&legend=1&ilt=1&tp=all&fo=0&lang=en'  \\\n",
    "            % (asin, tag)\n",
    "\n",
    "            if not os.path.isfile(image_name):\n",
    "#                 print  '... created \\t',image_name\n",
    "                try:\n",
    "                    r = requests.get(url)\n",
    "                    time.sleep(time_sleep+2*np.random.random())\n",
    "                    if r.status_code == 200:\n",
    "                        i = Image.open(StringIO(r.content))\n",
    "                        i.save(image_name)\n",
    "                    \n",
    "                    else:\n",
    "                        print 'status_code=', r.status_code\n",
    "                except Exception as e:\n",
    "                    print(e.message)\n",
    "\n",
    "                \n",
    "        else:\n",
    "            print 'no such folder -->', tag\n",
    "    else:\n",
    "        print('Wrong ASIN provided')\n",
    "\n",
    "\n"
   ]
  },
  {
   "cell_type": "code",
   "execution_count": 717,
   "metadata": {},
   "outputs": [
    {
     "data": {
      "text/plain": [
       "8053"
      ]
     },
     "execution_count": 717,
     "metadata": {},
     "output_type": "execute_result"
    }
   ],
   "source": [
    "len(list(idx))"
   ]
  },
  {
   "cell_type": "code",
   "execution_count": 721,
   "metadata": {},
   "outputs": [
    {
     "name": "stdout",
     "output_type": "stream",
     "text": [
      "[====================] B0049QHHAM\t 8053/8053"
     ]
    }
   ],
   "source": [
    "\n",
    "counter = 0 ## for progress bar\n",
    "item_list = list(idx)\n",
    "for item in item_list:\n",
    "    tag =  'new' #'amazon-new' #'new' 'amazon',\n",
    "    getImage(item,tag,time_sleep=4)\n",
    "    counter +=1\n",
    "    sys.stdout.write('\\r')\n",
    "    sys.stdout.write(\"[%-20s] %s\\t %d/%d\" % ('='*(20*counter/len(item_list)), item, counter,len(item_list)))\n",
    "    time.sleep(0.001)\n",
    "    sys.stdout.flush()\n",
    "    "
   ]
  },
  {
   "cell_type": "markdown",
   "metadata": {},
   "source": [
    "<div class=\"alert alert-block alert-info\">\n",
    "</div>\n"
   ]
  },
  {
   "cell_type": "code",
   "execution_count": null,
   "metadata": {},
   "outputs": [],
   "source": []
  },
  {
   "cell_type": "markdown",
   "metadata": {},
   "source": [
    "# Extra things"
   ]
  },
  {
   "cell_type": "code",
   "execution_count": 420,
   "metadata": {},
   "outputs": [],
   "source": [
    "# ## thetracktor\n",
    "# t = page.text\n",
    "# r = re.compile('loadPrices\\((\\d+),')\n",
    "# id = re.findall(r, t)\n",
    "\n",
    "# json_url = r'https://thetracktor.com/ajax/prices/?id=%s&days=90' % id[0]\n",
    "# print json_url\n",
    "# # json_url = requests.get(json_url)\n"
   ]
  }
 ],
 "metadata": {
  "kernelspec": {
   "display_name": "Python 2",
   "language": "python",
   "name": "python2"
  },
  "language_info": {
   "codemirror_mode": {
    "name": "ipython",
    "version": 2
   },
   "file_extension": ".py",
   "mimetype": "text/x-python",
   "name": "python",
   "nbconvert_exporter": "python",
   "pygments_lexer": "ipython2",
   "version": "2.7.14"
  }
 },
 "nbformat": 4,
 "nbformat_minor": 2
}
