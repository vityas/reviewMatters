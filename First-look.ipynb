{
 "cells": [
  {
   "cell_type": "markdown",
   "metadata": {},
   "source": [
    "# Scraping the data\n",
    "\n",
    "## Do not run"
   ]
  },
  {
   "cell_type": "code",
   "execution_count": 129,
   "metadata": {},
   "outputs": [],
   "source": [
    "import pandas as pd\n",
    "import numpy as np\n",
    "import gzip\n",
    "import datetime\n",
    "import requests\n",
    "import sys\n",
    "import os\n",
    "from glob import glob\n",
    "from StringIO import StringIO\n",
    "from PIL import Image\n",
    "import time\n",
    "\n",
    "# import pickle"
   ]
  },
  {
   "cell_type": "markdown",
   "metadata": {},
   "source": [
    "We first define parsing fucntions that take the gzipped JSON files from \n",
    "http://jmcauley.ucsd.edu/data/amazon/\n",
    "to get pandas data frame use\n",
    "\n",
    "    Pandas_df = getDF(path, N = Nuber_of_lines)\n",
    "    \n"
   ]
  },
  {
   "cell_type": "code",
   "execution_count": 71,
   "metadata": {},
   "outputs": [],
   "source": [
    "def parse(path):\n",
    "    g = gzip.open(path, 'rb')\n",
    "    for l in g:\n",
    "        yield eval(l)\n",
    "\n",
    "def getDF(path, N= int(1e9) ):\n",
    "    print 'Getting first %d lines of ./%s' % (N,path)\n",
    "    i = 0\n",
    "    df = {}\n",
    "    for d in parse(path):\n",
    "        if i < N:\n",
    "            df[i] = d\n",
    "            i += 1\n",
    "        else:\n",
    "            break\n",
    "    return pd.DataFrame.from_dict(df, orient='index')"
   ]
  },
  {
   "cell_type": "code",
   "execution_count": 131,
   "metadata": {},
   "outputs": [],
   "source": [
    "paths  = [  'data/reviews/reviews_Baby_5.json.gz',\n",
    "            'data/reviews/reviews_Beauty_5.json.gz',\n",
    "            'data/reviews/reviews_Electronics_5.json.gz',\n",
    "            'data/reviews/reviews_Sports_and_Outdoors_5.json.gz',\n",
    "            'data/reviews/reviews_Musical_Instruments_5.json.gz']\n",
    "\n",
    "paths_r  = ['data/reviews/ratings_Baby.csv',\n",
    "            'data/reviews/ratings_Beauty.csv',\n",
    "            'data/reviews/ratings_Electronics.csv',\n",
    "            'data/reviews/ratings_Sports_and_Outdoors.csv',\n",
    "            'data/reviews/ratings_Musical_Instruments.csv']\n",
    "\n",
    "n = -1\n",
    "path = paths[n]\n",
    "path_r = paths_r[n]\n"
   ]
  },
  {
   "cell_type": "code",
   "execution_count": 132,
   "metadata": {},
   "outputs": [
    {
     "name": "stdout",
     "output_type": "stream",
     "text": [
      "Getting first 1000000000 lines of ./data/reviews/reviews_Musical_Instruments_5.json.gz\n"
     ]
    }
   ],
   "source": [
    "## if slow\n",
    "## first N lines: getDF(path, N)\n",
    "df = getDF(path)"
   ]
  },
  {
   "cell_type": "code",
   "execution_count": 133,
   "metadata": {},
   "outputs": [
    {
     "name": "stdout",
     "output_type": "stream",
     "text": [
      "900\n"
     ]
    },
    {
     "data": {
      "text/plain": [
       "B003VWJ2K8    163\n",
       "B0002E1G5C    143\n",
       "B0002F7K7Y    116\n",
       "B003VWKPHC    114\n",
       "B0002H0A3S     93\n",
       "Name: asin, dtype: int64"
      ]
     },
     "execution_count": 133,
     "metadata": {},
     "output_type": "execute_result"
    }
   ],
   "source": [
    "# Define items by ASIN\n",
    "items = df.asin.value_counts()\n",
    "item_names = list(items.index.get_values())\n",
    "print len(item_names)\n",
    "items.head()\n"
   ]
  },
  {
   "cell_type": "code",
   "execution_count": 134,
   "metadata": {},
   "outputs": [
    {
     "name": "stdout",
     "output_type": "stream",
     "text": [
      "data/reviews/counts_reviews_Musical_Instruments.csv\n",
      "You are about to save 900 items to the path :\n",
      " \t <data/reviews/counts_reviews_Musical_Instruments.csv>\n",
      "••• This path already exists •••\n",
      "Do you want to save? : \n",
      "Enter for \"No\"\n",
      "Not saved\n"
     ]
    }
   ],
   "source": [
    "#### Save ######\n",
    "# check the path !!!\n",
    "path_to_save_count = path.replace('_5.json.gz', '.csv').replace('reviews_', 'counts_reviews_')\n",
    "print path_to_save_count \n",
    "\n",
    "def query(question, default = 'No'):\n",
    "    yes = {'yes','y', 'ye'}\n",
    "    print question, ': '\n",
    "    choice = raw_input('Enter for \"No\"').lower()\n",
    "    if choice in yes:\n",
    "        return True\n",
    "    else:\n",
    "        return False\n",
    "\n",
    "print 'You are about to save {} items to the path :\\n \\t <{}>'.format(len(items),path_to_save_count)\n",
    "    \n",
    "if  os.path.exists(path_to_save_count):\n",
    "    print '••• This path already exists •••'\n",
    "\n",
    "    \n",
    "if query('Do you want to save?'):\n",
    "    items.to_csv( path_to_save_count)\n",
    "    print \"Saved\"\n",
    "else:\n",
    "    print 'Not saved'\n"
   ]
  },
  {
   "cell_type": "code",
   "execution_count": 135,
   "metadata": {},
   "outputs": [
    {
     "name": "stdout",
     "output_type": "stream",
     "text": [
      "8 Mb\n",
      "There are 20157 objects in the picture folder\n"
     ]
    }
   ],
   "source": [
    "# Size of obeject and filenames\n",
    "\n",
    "print  sys.getsizeof(df)/2**20, 'Mb'\n",
    "\n",
    "filenames = [os.path.basename(i)[:-4] for i in glob('data/price_history/new/*.png',)]\n",
    "print 'There are %d objects in the picture folder' % len(filenames)"
   ]
  },
  {
   "cell_type": "markdown",
   "metadata": {},
   "source": [
    "### Analyze ratings"
   ]
  },
  {
   "cell_type": "code",
   "execution_count": 136,
   "metadata": {},
   "outputs": [
    {
     "data": {
      "text/plain": [
       "'data/reviews/ratings_Musical_Instruments.csv'"
      ]
     },
     "execution_count": 136,
     "metadata": {},
     "output_type": "execute_result"
    }
   ],
   "source": [
    "path_r"
   ]
  },
  {
   "cell_type": "code",
   "execution_count": 137,
   "metadata": {},
   "outputs": [
    {
     "name": "stdout",
     "output_type": "stream",
     "text": [
      "61 Mb\n"
     ]
    },
    {
     "data": {
      "text/html": [
       "<div>\n",
       "<style scoped>\n",
       "    .dataframe tbody tr th:only-of-type {\n",
       "        vertical-align: middle;\n",
       "    }\n",
       "\n",
       "    .dataframe tbody tr th {\n",
       "        vertical-align: top;\n",
       "    }\n",
       "\n",
       "    .dataframe thead th {\n",
       "        text-align: right;\n",
       "    }\n",
       "</style>\n",
       "<table border=\"1\" class=\"dataframe\">\n",
       "  <thead>\n",
       "    <tr style=\"text-align: right;\">\n",
       "      <th></th>\n",
       "      <th>User</th>\n",
       "      <th>ASIN</th>\n",
       "      <th>Rating</th>\n",
       "      <th>Timestamp</th>\n",
       "    </tr>\n",
       "  </thead>\n",
       "  <tbody>\n",
       "    <tr>\n",
       "      <th>0</th>\n",
       "      <td>A1YS9MDZP93857</td>\n",
       "      <td>0006428320</td>\n",
       "      <td>3.0</td>\n",
       "      <td>1394496000</td>\n",
       "    </tr>\n",
       "    <tr>\n",
       "      <th>1</th>\n",
       "      <td>A3TS466QBAWB9D</td>\n",
       "      <td>0014072149</td>\n",
       "      <td>5.0</td>\n",
       "      <td>1370476800</td>\n",
       "    </tr>\n",
       "    <tr>\n",
       "      <th>2</th>\n",
       "      <td>A3BUDYITWUSIS7</td>\n",
       "      <td>0041291905</td>\n",
       "      <td>5.0</td>\n",
       "      <td>1381708800</td>\n",
       "    </tr>\n",
       "    <tr>\n",
       "      <th>3</th>\n",
       "      <td>A19K10Z0D2NTZK</td>\n",
       "      <td>0041913574</td>\n",
       "      <td>5.0</td>\n",
       "      <td>1285200000</td>\n",
       "    </tr>\n",
       "    <tr>\n",
       "      <th>4</th>\n",
       "      <td>A14X336IB4JD89</td>\n",
       "      <td>0201891859</td>\n",
       "      <td>1.0</td>\n",
       "      <td>1350432000</td>\n",
       "    </tr>\n",
       "  </tbody>\n",
       "</table>\n",
       "</div>"
      ],
      "text/plain": [
       "             User        ASIN  Rating   Timestamp\n",
       "0  A1YS9MDZP93857  0006428320     3.0  1394496000\n",
       "1  A3TS466QBAWB9D  0014072149     5.0  1370476800\n",
       "2  A3BUDYITWUSIS7  0041291905     5.0  1381708800\n",
       "3  A19K10Z0D2NTZK  0041913574     5.0  1285200000\n",
       "4  A14X336IB4JD89  0201891859     1.0  1350432000"
      ]
     },
     "execution_count": 137,
     "metadata": {},
     "output_type": "execute_result"
    }
   ],
   "source": [
    "columns = ['User', 'ASIN', 'Rating', 'Timestamp']\n",
    "ratings_df = pd.read_csv(path_r, header=None, names = columns)\n",
    "print sys.getsizeof(ratings_df)/2**20, 'Mb'\n",
    "ratings_df.head()\n",
    "# "
   ]
  },
  {
   "cell_type": "code",
   "execution_count": 138,
   "metadata": {},
   "outputs": [],
   "source": [
    "r = ratings_df.ASIN.value_counts()"
   ]
  },
  {
   "cell_type": "code",
   "execution_count": 139,
   "metadata": {},
   "outputs": [
    {
     "name": "stdout",
     "output_type": "stream",
     "text": [
      "total items with 5+ reviews: 900, and 10+: 270, ratings>50: 1326\n",
      "intersection is  517\n"
     ]
    }
   ],
   "source": [
    "# intersection if indexes such that \n",
    "#  reviews >4, ratings>50\n",
    "print 'total items with 5+ reviews: %d, and 10+: %d, ratings>50: %d' % (len(items), len(items[items>10]),len(r[r>50]))\n",
    "idx = items[items>4].index.intersection(r[r>50].index)\n",
    "print 'intersection is ', len(items[idx])\n"
   ]
  },
  {
   "cell_type": "markdown",
   "metadata": {},
   "source": [
    "# Scrap"
   ]
  },
  {
   "cell_type": "code",
   "execution_count": 140,
   "metadata": {},
   "outputs": [],
   "source": [
    "def getImage(asin,  tag =  'new', time_sleep = 5):\n",
    "    if len(asin)==10:\n",
    "\n",
    "        image_name = 'data/price_history/%s/%s.png' % (tag,asin)\n",
    "        if os.path.exists('data/price_history/'+tag):\n",
    "            url = r'https://charts.camelcamelcamel.com/us/%s/%s.png?force=1&zero=1&w=1000&h=500&desired=false&legend=1&ilt=1&tp=all&fo=0&lang=en'  \\\n",
    "            % (asin, tag)\n",
    "\n",
    "            if not os.path.isfile(image_name):\n",
    "#                 print  '... created \\t',image_name\n",
    "                try:\n",
    "                    r = requests.get(url)\n",
    "                    time.sleep(time_sleep+2*np.random.random())\n",
    "                    if r.status_code == 200:\n",
    "                        i = Image.open(StringIO(r.content))\n",
    "                        i.save(image_name)\n",
    "                    \n",
    "                    else:\n",
    "                        print 'status_code=', r.status_code\n",
    "                except Exception as e:\n",
    "                    print(e.message)\n",
    "\n",
    "                \n",
    "        else:\n",
    "            print 'no such folder -->', tag\n",
    "    else:\n",
    "        print('Wrong ASIN provided')\n",
    "\n",
    "\n"
   ]
  },
  {
   "cell_type": "markdown",
   "metadata": {},
   "source": [
    "#### THREE EXAMPLES OF DEFINING THE ITEM NAMES:\n",
    "    "
   ]
  },
  {
   "cell_type": "code",
   "execution_count": 141,
   "metadata": {},
   "outputs": [
    {
     "name": "stdout",
     "output_type": "stream",
     "text": [
      "20157\n",
      "900\n",
      "517\n"
     ]
    }
   ],
   "source": [
    "# (1) \n",
    "# from other directory:\n",
    "# all scrapped items form new directory to get the amazon prices\n",
    "item_names = glob('data/price_history/new/??????????.png')\n",
    "item_names = [i[-14:-4] for i in item_names]\n",
    "print len(item_names)\n",
    "# (2)\n",
    "# From itmes - list of unique tnries in df\n",
    "item_names = list(items.index.get_values())\n",
    "print len(item_names)\n",
    "# (3) - prefferred\n",
    "# From the intersection of items and ratings\n",
    "# use idx defined above\n",
    "item_names = list(idx.get_values())\n",
    "print len(item_names)"
   ]
  },
  {
   "cell_type": "code",
   "execution_count": null,
   "metadata": {},
   "outputs": [
    {
     "name": "stdout",
     "output_type": "stream",
     "text": [
      "[                    ] B004XNK7AI\t 11/517"
     ]
    }
   ],
   "source": [
    "\n",
    "counter = 0    ## for progress bar\n",
    "tag = 'new'\n",
    "\n",
    "for item in item_names:\n",
    "    getImage(item,tag,time_sleep=2)\n",
    "    counter +=1\n",
    "    sys.stdout.write('\\r')\n",
    "    sys.stdout.write(\"[%-20s] %s\\t %d/%d\" % ('='*(20*counter/len(item_names)), item, counter,len(item_names)))\n",
    "    time.sleep(0.001)\n",
    "    sys.stdout.flush()\n",
    "    "
   ]
  },
  {
   "cell_type": "markdown",
   "metadata": {},
   "source": [
    "<div class=\"alert alert-block alert-info\">\n",
    "</div>\n"
   ]
  },
  {
   "cell_type": "code",
   "execution_count": null,
   "metadata": {},
   "outputs": [],
   "source": []
  },
  {
   "cell_type": "markdown",
   "metadata": {},
   "source": [
    "# Extra things"
   ]
  },
  {
   "cell_type": "code",
   "execution_count": 420,
   "metadata": {},
   "outputs": [],
   "source": [
    "# ## thetracktor\n",
    "# t = page.text\n",
    "# r = re.compile('loadPrices\\((\\d+),')\n",
    "# id = re.findall(r, t)\n",
    "\n",
    "# json_url = r'https://thetracktor.com/ajax/prices/?id=%s&days=90' % id[0]\n",
    "# print json_url\n",
    "# # json_url = requests.get(json_url)\n"
   ]
  }
 ],
 "metadata": {
  "kernelspec": {
   "display_name": "Python 2",
   "language": "python",
   "name": "python2"
  },
  "language_info": {
   "codemirror_mode": {
    "name": "ipython",
    "version": 2
   },
   "file_extension": ".py",
   "mimetype": "text/x-python",
   "name": "python",
   "nbconvert_exporter": "python",
   "pygments_lexer": "ipython2",
   "version": "2.7.14"
  }
 },
 "nbformat": 4,
 "nbformat_minor": 2
}
