{
 "cells": [
  {
   "cell_type": "markdown",
   "metadata": {},
   "source": [
    "# Scraping the data"
   ]
  },
  {
   "cell_type": "code",
   "execution_count": 419,
   "metadata": {},
   "outputs": [],
   "source": [
    "import pandas as pd\n",
    "import numpy as np\n",
    "import gzip\n",
    "import datetime\n",
    "import requests\n",
    "import sys\n",
    "import os\n",
    "\n",
    "from StringIO import StringIO\n",
    "from PIL import Image\n",
    "\n",
    "# import pickle"
   ]
  },
  {
   "cell_type": "code",
   "execution_count": 55,
   "metadata": {},
   "outputs": [],
   "source": [
    "def parse(path):\n",
    "  g = gzip.open(path, 'rb')\n",
    "  for l in g:\n",
    "    yield eval(l)\n",
    "\n",
    "def getDF(path):\n",
    "  i = 0\n",
    "  df = {}\n",
    "  for d in parse(path):\n",
    "    df[i] = d\n",
    "    i += 1\n",
    "  return pd.DataFrame.from_dict(df, orient='index')\n"
   ]
  },
  {
   "cell_type": "code",
   "execution_count": 538,
   "metadata": {},
   "outputs": [],
   "source": [
    "\n",
    "path  = 'data/price_history/reviews_Musical_Instruments_5.json.gz'"
   ]
  },
  {
   "cell_type": "code",
   "execution_count": 539,
   "metadata": {},
   "outputs": [],
   "source": [
    "df = getDF(path)\n",
    "\n",
    "##if slow\n",
    "## first N lines\n",
    "# N = 10\n",
    "# PARSE = parse(path)\n",
    "# d = next(PARSE)\n",
    "# counter = 0\n",
    "# while len(d) >0 and counter <7:\n",
    "#     counter +=1;\n",
    "#     print d['asin']\n",
    "#     d = next(PARSE)\n"
   ]
  },
  {
   "cell_type": "code",
   "execution_count": 540,
   "metadata": {},
   "outputs": [
    {
     "data": {
      "text/plain": [
       "B003VWJ2K8    163\n",
       "B0002E1G5C    143\n",
       "B0002F7K7Y    116\n",
       "B003VWKPHC    114\n",
       "B0002H0A3S     93\n",
       "Name: asin, dtype: int64"
      ]
     },
     "execution_count": 540,
     "metadata": {},
     "output_type": "execute_result"
    }
   ],
   "source": [
    "# Define items by ASIN\n",
    "items = df.asin.value_counts()\n",
    "item_names = list(items.index.get_values())\n",
    "items.head()"
   ]
  },
  {
   "cell_type": "code",
   "execution_count": 541,
   "metadata": {},
   "outputs": [
    {
     "name": "stdout",
     "output_type": "stream",
     "text": [
      "data/price_history/reviews_Musical_Instruments_5.json.gz\n"
     ]
    }
   ],
   "source": [
    "# Save #\n",
    "# check the path !!!\n",
    "print path\n",
    "# items.to_pickle(path[:-7]+'counts')\n",
    "# items.to_csv(   path[:-7]+'counts.csv')\n",
    "\n",
    "# print datetime.date.fromtimestamp(df.unixReviewTime.min())\n",
    "# print datetime.date.fromtimestamp(df.unixReviewTime.max())"
   ]
  },
  {
   "cell_type": "code",
   "execution_count": 542,
   "metadata": {},
   "outputs": [
    {
     "name": "stdout",
     "output_type": "stream",
     "text": [
      "8 Mb\n",
      "There are 12101 objects in the picture folder\n"
     ]
    }
   ],
   "source": [
    "# Size of obeject and filenames\n",
    "\n",
    "print  sys.getsizeof(df)/2**20, 'Mb'\n",
    "\n",
    "filenames = [os.path.basename(i)[:-4] for i in glob('data/price_history/new/*.png',)]\n",
    "print 'There are %d objects in the picture folder' % len(filenames)"
   ]
  },
  {
   "cell_type": "markdown",
   "metadata": {},
   "source": [
    "### Analyze ratings"
   ]
  },
  {
   "cell_type": "code",
   "execution_count": 545,
   "metadata": {},
   "outputs": [],
   "source": [
    "path_r = r'data/price_history/ratings_Musical_Instruments.csv'"
   ]
  },
  {
   "cell_type": "code",
   "execution_count": 546,
   "metadata": {},
   "outputs": [
    {
     "name": "stdout",
     "output_type": "stream",
     "text": [
      "61 Mb\n"
     ]
    },
    {
     "data": {
      "text/html": [
       "<div>\n",
       "<style scoped>\n",
       "    .dataframe tbody tr th:only-of-type {\n",
       "        vertical-align: middle;\n",
       "    }\n",
       "\n",
       "    .dataframe tbody tr th {\n",
       "        vertical-align: top;\n",
       "    }\n",
       "\n",
       "    .dataframe thead th {\n",
       "        text-align: right;\n",
       "    }\n",
       "</style>\n",
       "<table border=\"1\" class=\"dataframe\">\n",
       "  <thead>\n",
       "    <tr style=\"text-align: right;\">\n",
       "      <th></th>\n",
       "      <th>User</th>\n",
       "      <th>ASIN</th>\n",
       "      <th>Rating</th>\n",
       "      <th>Timestamp</th>\n",
       "    </tr>\n",
       "  </thead>\n",
       "  <tbody>\n",
       "    <tr>\n",
       "      <th>0</th>\n",
       "      <td>A1YS9MDZP93857</td>\n",
       "      <td>0006428320</td>\n",
       "      <td>3.0</td>\n",
       "      <td>1394496000</td>\n",
       "    </tr>\n",
       "    <tr>\n",
       "      <th>1</th>\n",
       "      <td>A3TS466QBAWB9D</td>\n",
       "      <td>0014072149</td>\n",
       "      <td>5.0</td>\n",
       "      <td>1370476800</td>\n",
       "    </tr>\n",
       "    <tr>\n",
       "      <th>2</th>\n",
       "      <td>A3BUDYITWUSIS7</td>\n",
       "      <td>0041291905</td>\n",
       "      <td>5.0</td>\n",
       "      <td>1381708800</td>\n",
       "    </tr>\n",
       "    <tr>\n",
       "      <th>3</th>\n",
       "      <td>A19K10Z0D2NTZK</td>\n",
       "      <td>0041913574</td>\n",
       "      <td>5.0</td>\n",
       "      <td>1285200000</td>\n",
       "    </tr>\n",
       "    <tr>\n",
       "      <th>4</th>\n",
       "      <td>A14X336IB4JD89</td>\n",
       "      <td>0201891859</td>\n",
       "      <td>1.0</td>\n",
       "      <td>1350432000</td>\n",
       "    </tr>\n",
       "  </tbody>\n",
       "</table>\n",
       "</div>"
      ],
      "text/plain": [
       "             User        ASIN  Rating   Timestamp\n",
       "0  A1YS9MDZP93857  0006428320     3.0  1394496000\n",
       "1  A3TS466QBAWB9D  0014072149     5.0  1370476800\n",
       "2  A3BUDYITWUSIS7  0041291905     5.0  1381708800\n",
       "3  A19K10Z0D2NTZK  0041913574     5.0  1285200000\n",
       "4  A14X336IB4JD89  0201891859     1.0  1350432000"
      ]
     },
     "execution_count": 546,
     "metadata": {},
     "output_type": "execute_result"
    }
   ],
   "source": [
    "columns = ['User', 'ASIN', 'Rating', 'Timestamp']\n",
    "ratings_df = pd.read_csv(path_r, header=None, names = columns) \n",
    "print sys.getsizeof(ratings_df)/2**20, 'Mb'\n",
    "ratings_df.head()\n",
    "# "
   ]
  },
  {
   "cell_type": "code",
   "execution_count": 547,
   "metadata": {},
   "outputs": [],
   "source": [
    "r = ratings_df.ASIN.value_counts()"
   ]
  },
  {
   "cell_type": "code",
   "execution_count": 558,
   "metadata": {},
   "outputs": [
    {
     "data": {
      "text/plain": [
       "517"
      ]
     },
     "execution_count": 558,
     "metadata": {},
     "output_type": "execute_result"
    }
   ],
   "source": [
    "# intersection if indexes such that \n",
    "#  reviews >4, ratings>50\n",
    "idx = items[items>4].index.intersection(r[r>50].index)\n",
    "len(items[idx])\n"
   ]
  },
  {
   "cell_type": "markdown",
   "metadata": {},
   "source": [
    "# Scrap"
   ]
  },
  {
   "cell_type": "code",
   "execution_count": 553,
   "metadata": {},
   "outputs": [],
   "source": [
    "def getImage(asin,  tag =  'new', time_sleep = 5):\n",
    "    if len(asin)==10:\n",
    "\n",
    "        image_name = 'data/price_history/%s/%s.png' % (tag,asin)\n",
    "        if os.path.exists('data/price_history/'+tag):\n",
    "            url = r'https://charts.camelcamelcamel.com/us/%s/%s.png?force=1&zero=1&w=1000&h=500&desired=false&legend=1&ilt=1&tp=all&fo=0&lang=en'  \\\n",
    "            % (asin, tag)\n",
    "\n",
    "            if not os.path.isfile(image_name):\n",
    "#                 print  '... created \\t',image_name\n",
    "                try:\n",
    "                    r = requests.get(url)\n",
    "                    time.sleep(time_sleep+2*np.random.random()-1)\n",
    "                    if r.status_code == 200:\n",
    "                        i = Image.open(StringIO(r.content))\n",
    "                        i.save(image_name)\n",
    "                    \n",
    "                    else:\n",
    "                        print 'status_code=', r.status_code\n",
    "                except Exception as e:\n",
    "                    print(e.message)\n",
    "\n",
    "                \n",
    "        else:\n",
    "            print 'no such folder -->', tag\n",
    "    else:\n",
    "        print('Wrong ASIN provided')\n",
    "\n",
    "\n"
   ]
  },
  {
   "cell_type": "code",
   "execution_count": 564,
   "metadata": {},
   "outputs": [
    {
     "data": {
      "text/plain": [
       "517"
      ]
     },
     "execution_count": 564,
     "metadata": {},
     "output_type": "execute_result"
    }
   ],
   "source": [
    "len(list(idx))"
   ]
  },
  {
   "cell_type": "code",
   "execution_count": 565,
   "metadata": {},
   "outputs": [
    {
     "name": "stdout",
     "output_type": "stream",
     "text": [
      "[====================] B002Q0WT6U\t 517/517"
     ]
    }
   ],
   "source": [
    "\n",
    "counter = 0 ## for progress bar\n",
    "item_list = list(idx)\n",
    "for item in item_list:\n",
    "    tag =  'amazon-new' #'new' 'amazon',\n",
    "    getImage(item,tag,time_sleep=5)\n",
    "    counter +=1\n",
    "    sys.stdout.write('\\r')\n",
    "    sys.stdout.write(\"[%-20s] %s\\t %d/%d\" % ('='*(20*counter/len(item_list)), item, counter,len(item_list)))\n",
    "    time.sleep(0.001)\n",
    "    sys.stdout.flush()\n",
    "    "
   ]
  },
  {
   "cell_type": "markdown",
   "metadata": {},
   "source": [
    "<div class=\"alert alert-block alert-info\">\n",
    "</div>\n"
   ]
  },
  {
   "cell_type": "code",
   "execution_count": null,
   "metadata": {},
   "outputs": [],
   "source": []
  },
  {
   "cell_type": "markdown",
   "metadata": {},
   "source": [
    "# Extra things"
   ]
  },
  {
   "cell_type": "code",
   "execution_count": 420,
   "metadata": {},
   "outputs": [],
   "source": [
    "# ## thetracktor\n",
    "# t = page.text\n",
    "# r = re.compile('loadPrices\\((\\d+),')\n",
    "# id = re.findall(r, t)\n",
    "\n",
    "# json_url = r'https://thetracktor.com/ajax/prices/?id=%s&days=90' % id[0]\n",
    "# print json_url\n",
    "# # json_url = requests.get(json_url)\n"
   ]
  }
 ],
 "metadata": {
  "kernelspec": {
   "display_name": "Python 2",
   "language": "python",
   "name": "python2"
  },
  "language_info": {
   "codemirror_mode": {
    "name": "ipython",
    "version": 2
   },
   "file_extension": ".py",
   "mimetype": "text/x-python",
   "name": "python",
   "nbconvert_exporter": "python",
   "pygments_lexer": "ipython2",
   "version": "2.7.14"
  }
 },
 "nbformat": 4,
 "nbformat_minor": 2
}
