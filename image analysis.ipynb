{
 "cells": [
  {
   "cell_type": "markdown",
   "metadata": {},
   "source": [
    "\n",
    "## Extract information from images.\n",
    "## Graphs are taken from camelcamelcamel website\n"
   ]
  },
  {
   "cell_type": "code",
   "execution_count": 1,
   "metadata": {},
   "outputs": [],
   "source": [
    "# First attempt:\n",
    "import os\n",
    "from glob import glob\n",
    "import json\n",
    "from PIL import Image, ImageEnhance\n",
    "import numpy as np\n",
    "import datetime\n",
    "import dill\n",
    "import pytesseract\n",
    "import matplotlib.pyplot as plt\n"
   ]
  },
  {
   "cell_type": "code",
   "execution_count": null,
   "metadata": {},
   "outputs": [],
   "source": [
    "filenames = [os.path.basename(i)[:-4] for i in glob('data/price_history/new/*.png',)]\n",
    "filenames =  glob('data/price_history/new/*.png')\n",
    "print len(filenames)\n",
    "fname = filenames[2]"
   ]
  },
  {
   "cell_type": "code",
   "execution_count": null,
   "metadata": {},
   "outputs": [],
   "source": [
    "# factor = 2\n",
    "# im_ = im1\n",
    "# # print im_.height, im_.width\n",
    "# im3 = im_.resize(( im_.width * factor,im_.height * factor),Image.BICUBIC)\n",
    "# show(im3)\n",
    "# im3.show()\n",
    "# # im3.save('year.png')\n",
    "\n",
    "# boxes = pytesseract.image_to_string(im3,  boxes=True, config = '-c tessedit_char_whitelist=0123456789')\n",
    "# # boxes = pytesseract.image_to_string(im3,  boxes=True, config = '--user-words dic.txt')\n",
    "\n",
    "# print boxes"
   ]
  },
  {
   "cell_type": "code",
   "execution_count": 2,
   "metadata": {},
   "outputs": [],
   "source": [
    "class camelScrap(object):\n",
    "    def __init__(self, fname, alpha = 1.5):\n",
    "        if os.path.exists(fname):\n",
    "            self.im = Image.open(fname)\n",
    "            self.fname = fname\n",
    "            self.asin = fname[-14:-4]\n",
    "            _im1 = self.im.crop((0,455,970,470))\n",
    "            _im1 = ImageEnhance.Contrast(_im1)\n",
    "            _im1 = _im1.enhance(alpha)\n",
    "            self.timeStrip = _im1\n",
    "            self.isempty = (np.array(self.timeStrip)<255).sum()<100\n",
    "            self._boxes = ''\n",
    "            self._t1 = 0\n",
    "            self._t2 = 0\n",
    "            self._Scale = None\n",
    "            self.label = None\n",
    "            self.y_zero = None\n",
    "            self.extracted_new = None\n",
    "            self.factor= 2\n",
    "            self.x_end = 0\n",
    "            \n",
    "        else:\n",
    "            print 'wrong filename, obejct was not created'\n",
    "    def __str__(self):\n",
    "        return 'member of camelScrap: ASIN %s, dimensions %d x %d' %(self.asin, self.im.width, self.im.height)\n",
    "    def __repr__(self):\n",
    "        return 'member of camelScrap: ASIN %s' %(self.asin)\n",
    "    \n",
    "    def show(self, scale=0.1):\n",
    "        plt.figure(figsize=(20,10))\n",
    "        plt.imshow(self.im)\n",
    "    \n",
    "\n",
    "    def OCR_time(self, factor = 2):\n",
    "        self.factor = factor\n",
    "        im_ = self.timeStrip\n",
    "        im_ = im_.resize(( im_.width * factor,im_.height * factor),Image.BICUBIC)\n",
    "        self.years = pytesseract.image_to_string(im_,  boxes=False, config = '--psm 7 -c tessedit_char_whitelist=0123456789') \n",
    "        self._boxes = pytesseract.image_to_string(im_,  boxes=True, config = '--psm 7 -c tessedit_char_whitelist=0123456789')\n",
    "        \n",
    "        return self.years\n",
    "    def setCoordinates(self):\n",
    "        if self._boxes =='': self.OCR_time()            \n",
    "        boxes = self._boxes\n",
    "        factor = self.factor\n",
    "        a = np.array([a.split(' ') for a in boxes.split('\\n')])\n",
    "        s = ''.join(a[:,0])\n",
    "        if len(s)>16:\n",
    "            ##calculate last recorded full year range (so not the padding years) \n",
    "            year_begin = int(s[4:8])\n",
    "            year_end = 2017\n",
    "\n",
    "            _ind = s.find(str(year_end))\n",
    "\n",
    "            if year_end != year_begin + (1.*_ind/4-1):\n",
    "                print 'end year does not match'\n",
    "\n",
    "        #             if self.years.split()[-4:-1] !=['2015','2016', '2017']: ## same as\n",
    "                if s[_ind-4:_ind] == str(year_end-1) and s[_ind-8:_ind-4] == str(year_end-2):\n",
    "                    year_begin = year_end -(_ind/4-1)\n",
    "                else:\n",
    "                    print \"failed twice !\"\n",
    "                    print '2016 is',s[_ind-4:_ind] == str(year_end-1) , '2015 is',s[_ind-8:_ind-4] == str(year_end-2)\n",
    "\n",
    "\n",
    "            # x1 = 1.*a[4,1]/factor\n",
    "            x_begin = float(a[4,1])/factor\n",
    "\n",
    "            x_end = float(a[_ind,1])/factor\n",
    "            self.x_end = x_end\n",
    "\n",
    "            t2 = int(datetime.datetime(year_end,01,01).strftime(\"%s\"))\n",
    "            t1 = int(datetime.datetime(year_begin,01,01).strftime(\"%s\"))\n",
    "            Scale = 1.0*(t2-t1)/(x_end-x_begin)\n",
    "            self._t1 = t1\n",
    "            self._t2 = t2\n",
    "            self._Scale = Scale\n",
    "        else:\n",
    "            self._Scale = 0\n",
    "            print 'Only very recent data!'\n",
    "        \n",
    "    def getTime(self,pixel):\n",
    "        if self._Scale ==None: self.setCoordinates()\n",
    "        t1,t2,Scale = self._t1,self._t2, self._Scale\n",
    "        t = t2 + int((pixel - self.x_end)*Scale)\n",
    "        t_datetime = datetime.date.fromtimestamp(t)\n",
    "        return t, t_datetime\n",
    "    \n",
    "    def find_zero(self):\n",
    "        ## returns estimated y-coordinate for y==0(in pixels from the left top corner) \n",
    "        ## it does that by searching for a dark grey line that is persistent across all image\n",
    "\n",
    "        if self.isempty: return\n",
    "        ima = np.array(self.im)\n",
    "        Ydim, Xdim = ima.shape[:2]\n",
    "        print 'hello'\n",
    "        print np.all(ima[:,400,:]<75, axis=1)\n",
    "        foo = [np.where(np.all(ima[:,col,:]==75, axis=1))[0] for col in range(Xdim)]\n",
    "        print foo[:5]\n",
    "        foo = [[n,i.mean()] for n,i in enumerate(foo) if  len(i)]\n",
    "        foo = np.array(foo)\n",
    "        print foo[:5]\n",
    "        y_zero = int(np.median(foo))\n",
    "        self.y_zero = y_zero\n",
    "        return y_zero\n",
    "    def find_new(self):\n",
    "        ima = np.array(self.im)\n",
    "        Ydim, Xdim = ima.shape[:2]\n",
    "        if self.y_zero is None: self.find_zero()\n",
    "        y_zero = self.y_zero\n",
    "        foo = [np.where((ima[:y_zero,col,0]<10)&(ima[:y_zero,col,2]>150))[0] for col in range(Xdim)]\n",
    "        foo = [[n, y_zero - i.mean()] for n,i in enumerate(foo) if  len(i)]\n",
    "        extracted_new = np.array(foo)  \n",
    "        extracted_new[:,0] = [self.getTime(pixel)[0] for pixel in extracted_new[:,0]]\n",
    "        self.extracted_new = extracted_new\n",
    "        return extracted_new\n",
    "    def OCR_getLabel(self):\n",
    "        im = self.im.crop((45,0,545,16)).resize((1000,30), Image.BILINEAR)\n",
    "        self.label = pytesseract.image_to_string(im,  boxes=False, lang = 'eng', config = r'--psm 7 -c tessedit_char_blacklist=\\\\//')\n",
    "        \n",
    "    def populate(self):\n",
    "        if  self.isempty: \n",
    "            print 'Seem like there is no plot'\n",
    "            return\n",
    "        if self.label == None:\n",
    "            self.OCR_getLabel()\n",
    "        if self.extracted_new is None:\n",
    "            self.find_new()\n",
    "        \n",
    "def UtoD(i):\n",
    "#     Just to remmeber hpw to go from Unix timestamp to date object and back\n",
    "    return datetime.datetime.fromtimestamp(i)\n",
    "def DtoU(i):\n",
    "#     Just to remmeber hpw to go from Unix timestamp to date object and back\n",
    "    return int(i.strftime('%s'))\n"
   ]
  },
  {
   "cell_type": "code",
   "execution_count": null,
   "metadata": {},
   "outputs": [],
   "source": [
    "print fname\n",
    "a = camelScrap(filenames[counter-1])\n",
    "a.find_zero()\n",
    "# (np.array(a.im)==75).sum()\n",
    "# [np.where(np.all(np.array(a.im)[:,col,:1]==75, axis=1))[0] for col in range(1000)]"
   ]
  },
  {
   "cell_type": "code",
   "execution_count": null,
   "metadata": {},
   "outputs": [],
   "source": []
  },
  {
   "cell_type": "code",
   "execution_count": null,
   "metadata": {},
   "outputs": [],
   "source": [
    "fname = filenames[0]\n",
    "# fname = r'data/price_history/new/B0012ZMBDQ.png'\n",
    "a = camelScrap(fname,1.5)\n",
    "print a\n",
    "a.timeStrip"
   ]
  },
  {
   "cell_type": "code",
   "execution_count": null,
   "metadata": {},
   "outputs": [],
   "source": [
    "a.populate()\n",
    "# a.__dict__"
   ]
  },
  {
   "cell_type": "code",
   "execution_count": null,
   "metadata": {},
   "outputs": [],
   "source": [
    "plt.plot(*a.extracted_new[:800,:].T)\n"
   ]
  },
  {
   "cell_type": "code",
   "execution_count": 3,
   "metadata": {},
   "outputs": [
    {
     "name": "stdout",
     "output_type": "stream",
     "text": [
      "hello\n",
      "[False False False False False False False False False False False False\n",
      " False False False False False False False False False False False False\n",
      " False False False False False False False False False False False False\n",
      " False False False False False False False False False False False False\n",
      " False False False False False False False False False False False False\n",
      " False False False False False False False False False False False False\n",
      " False False False False False False False False False False False False\n",
      " False False False False False False False False False False False False\n",
      " False False False False False False False False False False False False\n",
      " False False False False False False False False False False False False\n",
      " False False False False False False False False False False False False\n",
      " False False False False False False False False False False False False\n",
      " False False False False False False False False False False False False\n",
      " False False False False False False False False False False False False\n",
      " False False False False False False False False False False False False\n",
      " False False False False False False False False False False False False\n",
      " False False False False False False False False False False False False\n",
      " False False False False False False False False False False False False\n",
      " False False False False False False False False False False False False\n",
      " False False False False False False False False False False False False\n",
      " False False False False False False False False False False False False\n",
      " False False False False False False False False False False False False\n",
      " False False False False False False False False False False False False\n",
      " False False False False False False False False False False False False\n",
      " False False False False False False False False False False False False\n",
      " False False False False False False False False False False False False\n",
      " False False False False False False False False False False False False\n",
      " False False False False False False False False False False False False\n",
      " False False False False False False False False False False False False\n",
      " False False False False False False False False False False False False\n",
      " False False False False False False False False False False False False\n",
      " False False False False False False False False False False False False\n",
      " False False False False False False False False False False False False\n",
      " False False False False False False False False False False False False\n",
      " False False False False False False False False False False False False\n",
      " False False False False False False False False False False False False\n",
      " False False False False False False False False False False False False\n",
      " False False False False False False False False False False False False\n",
      " False False False False False False False False False False False False\n",
      " False False False False False False False False False False False False\n",
      " False False False False False False False False False False False False\n",
      " False False False False False False False False]\n",
      "[array([], dtype=int64), array([], dtype=int64), array([], dtype=int64), array([], dtype=int64), array([], dtype=int64)]\n",
      "[]\n"
     ]
    },
    {
     "name": "stderr",
     "output_type": "stream",
     "text": [
      "/Users/vitya/.virtualenvs/py27/lib/python2.7/site-packages/numpy/core/fromnumeric.py:2957: RuntimeWarning: Mean of empty slice.\n",
      "  out=out, **kwargs)\n",
      "/Users/vitya/.virtualenvs/py27/lib/python2.7/site-packages/numpy/core/_methods.py:80: RuntimeWarning: invalid value encountered in double_scalars\n",
      "  ret = ret.dtype.type(ret / rcount)\n"
     ]
    },
    {
     "ename": "ValueError",
     "evalue": "cannot convert float NaN to integer",
     "output_type": "error",
     "traceback": [
      "\u001b[0;31m-------------------------------------------------------------------------\u001b[0m",
      "\u001b[0;31mValueError\u001b[0m                              Traceback (most recent call last)",
      "\u001b[0;32m<ipython-input-3-ed8b719ed9dc>\u001b[0m in \u001b[0;36m<module>\u001b[0;34m()\u001b[0m\n\u001b[1;32m     13\u001b[0m         \u001b[0;32mif\u001b[0m \u001b[0;32mnot\u001b[0m \u001b[0ma\u001b[0m\u001b[0;34m.\u001b[0m\u001b[0misempty\u001b[0m\u001b[0;34m:\u001b[0m\u001b[0;34m\u001b[0m\u001b[0m\n\u001b[1;32m     14\u001b[0m             \u001b[0mclear_output\u001b[0m\u001b[0;34m(\u001b[0m\u001b[0mwait\u001b[0m \u001b[0;34m=\u001b[0m\u001b[0mTrue\u001b[0m\u001b[0;34m)\u001b[0m\u001b[0;34m\u001b[0m\u001b[0m\n\u001b[0;32m---> 15\u001b[0;31m             \u001b[0ma\u001b[0m\u001b[0;34m.\u001b[0m\u001b[0mpopulate\u001b[0m\u001b[0;34m(\u001b[0m\u001b[0;34m)\u001b[0m\u001b[0;34m\u001b[0m\u001b[0m\n\u001b[0m\u001b[1;32m     16\u001b[0m             \u001b[0;32mprint\u001b[0m \u001b[0mcounter\u001b[0m\u001b[0;34m,\u001b[0m\u001b[0;34m'/'\u001b[0m\u001b[0;34m,\u001b[0m\u001b[0mlen\u001b[0m\u001b[0;34m(\u001b[0m\u001b[0mfilenames\u001b[0m\u001b[0;34m)\u001b[0m\u001b[0;34m,\u001b[0m \u001b[0;34m'>>'\u001b[0m \u001b[0;34m,\u001b[0m\u001b[0ma\u001b[0m\u001b[0;34m.\u001b[0m\u001b[0mlabel\u001b[0m\u001b[0;34m\u001b[0m\u001b[0m\n\u001b[1;32m     17\u001b[0m         \u001b[0;32melse\u001b[0m\u001b[0;34m:\u001b[0m\u001b[0;34m\u001b[0m\u001b[0m\n",
      "\u001b[0;32m<ipython-input-2-59670204d9a4>\u001b[0m in \u001b[0;36mpopulate\u001b[0;34m(self)\u001b[0m\n\u001b[1;32m    126\u001b[0m             \u001b[0mself\u001b[0m\u001b[0;34m.\u001b[0m\u001b[0mOCR_getLabel\u001b[0m\u001b[0;34m(\u001b[0m\u001b[0;34m)\u001b[0m\u001b[0;34m\u001b[0m\u001b[0m\n\u001b[1;32m    127\u001b[0m         \u001b[0;32mif\u001b[0m \u001b[0mself\u001b[0m\u001b[0;34m.\u001b[0m\u001b[0mextracted_new\u001b[0m \u001b[0;32mis\u001b[0m \u001b[0mNone\u001b[0m\u001b[0;34m:\u001b[0m\u001b[0;34m\u001b[0m\u001b[0m\n\u001b[0;32m--> 128\u001b[0;31m             \u001b[0mself\u001b[0m\u001b[0;34m.\u001b[0m\u001b[0mfind_new\u001b[0m\u001b[0;34m(\u001b[0m\u001b[0;34m)\u001b[0m\u001b[0;34m\u001b[0m\u001b[0m\n\u001b[0m\u001b[1;32m    129\u001b[0m \u001b[0;34m\u001b[0m\u001b[0m\n\u001b[1;32m    130\u001b[0m \u001b[0;32mdef\u001b[0m \u001b[0mUtoD\u001b[0m\u001b[0;34m(\u001b[0m\u001b[0mi\u001b[0m\u001b[0;34m)\u001b[0m\u001b[0;34m:\u001b[0m\u001b[0;34m\u001b[0m\u001b[0m\n",
      "\u001b[0;32m<ipython-input-2-59670204d9a4>\u001b[0m in \u001b[0;36mfind_new\u001b[0;34m(self)\u001b[0m\n\u001b[1;32m    107\u001b[0m         \u001b[0mima\u001b[0m \u001b[0;34m=\u001b[0m \u001b[0mnp\u001b[0m\u001b[0;34m.\u001b[0m\u001b[0marray\u001b[0m\u001b[0;34m(\u001b[0m\u001b[0mself\u001b[0m\u001b[0;34m.\u001b[0m\u001b[0mim\u001b[0m\u001b[0;34m)\u001b[0m\u001b[0;34m\u001b[0m\u001b[0m\n\u001b[1;32m    108\u001b[0m         \u001b[0mYdim\u001b[0m\u001b[0;34m,\u001b[0m \u001b[0mXdim\u001b[0m \u001b[0;34m=\u001b[0m \u001b[0mima\u001b[0m\u001b[0;34m.\u001b[0m\u001b[0mshape\u001b[0m\u001b[0;34m[\u001b[0m\u001b[0;34m:\u001b[0m\u001b[0;36m2\u001b[0m\u001b[0;34m]\u001b[0m\u001b[0;34m\u001b[0m\u001b[0m\n\u001b[0;32m--> 109\u001b[0;31m         \u001b[0;32mif\u001b[0m \u001b[0mself\u001b[0m\u001b[0;34m.\u001b[0m\u001b[0my_zero\u001b[0m \u001b[0;32mis\u001b[0m \u001b[0mNone\u001b[0m\u001b[0;34m:\u001b[0m \u001b[0mself\u001b[0m\u001b[0;34m.\u001b[0m\u001b[0mfind_zero\u001b[0m\u001b[0;34m(\u001b[0m\u001b[0;34m)\u001b[0m\u001b[0;34m\u001b[0m\u001b[0m\n\u001b[0m\u001b[1;32m    110\u001b[0m         \u001b[0my_zero\u001b[0m \u001b[0;34m=\u001b[0m \u001b[0mself\u001b[0m\u001b[0;34m.\u001b[0m\u001b[0my_zero\u001b[0m\u001b[0;34m\u001b[0m\u001b[0m\n\u001b[1;32m    111\u001b[0m         \u001b[0mfoo\u001b[0m \u001b[0;34m=\u001b[0m \u001b[0;34m[\u001b[0m\u001b[0mnp\u001b[0m\u001b[0;34m.\u001b[0m\u001b[0mwhere\u001b[0m\u001b[0;34m(\u001b[0m\u001b[0;34m(\u001b[0m\u001b[0mima\u001b[0m\u001b[0;34m[\u001b[0m\u001b[0;34m:\u001b[0m\u001b[0my_zero\u001b[0m\u001b[0;34m,\u001b[0m\u001b[0mcol\u001b[0m\u001b[0;34m,\u001b[0m\u001b[0;36m0\u001b[0m\u001b[0;34m]\u001b[0m\u001b[0;34m<\u001b[0m\u001b[0;36m10\u001b[0m\u001b[0;34m)\u001b[0m\u001b[0;34m&\u001b[0m\u001b[0;34m(\u001b[0m\u001b[0mima\u001b[0m\u001b[0;34m[\u001b[0m\u001b[0;34m:\u001b[0m\u001b[0my_zero\u001b[0m\u001b[0;34m,\u001b[0m\u001b[0mcol\u001b[0m\u001b[0;34m,\u001b[0m\u001b[0;36m2\u001b[0m\u001b[0;34m]\u001b[0m\u001b[0;34m>\u001b[0m\u001b[0;36m150\u001b[0m\u001b[0;34m)\u001b[0m\u001b[0;34m)\u001b[0m\u001b[0;34m[\u001b[0m\u001b[0;36m0\u001b[0m\u001b[0;34m]\u001b[0m \u001b[0;32mfor\u001b[0m \u001b[0mcol\u001b[0m \u001b[0;32min\u001b[0m \u001b[0mrange\u001b[0m\u001b[0;34m(\u001b[0m\u001b[0mXdim\u001b[0m\u001b[0;34m)\u001b[0m\u001b[0;34m]\u001b[0m\u001b[0;34m\u001b[0m\u001b[0m\n",
      "\u001b[0;32m<ipython-input-2-59670204d9a4>\u001b[0m in \u001b[0;36mfind_zero\u001b[0;34m(self)\u001b[0m\n\u001b[1;32m    101\u001b[0m         \u001b[0mfoo\u001b[0m \u001b[0;34m=\u001b[0m \u001b[0mnp\u001b[0m\u001b[0;34m.\u001b[0m\u001b[0marray\u001b[0m\u001b[0;34m(\u001b[0m\u001b[0mfoo\u001b[0m\u001b[0;34m)\u001b[0m\u001b[0;34m\u001b[0m\u001b[0m\n\u001b[1;32m    102\u001b[0m         \u001b[0;32mprint\u001b[0m \u001b[0mfoo\u001b[0m\u001b[0;34m[\u001b[0m\u001b[0;34m:\u001b[0m\u001b[0;36m5\u001b[0m\u001b[0;34m]\u001b[0m\u001b[0;34m\u001b[0m\u001b[0m\n\u001b[0;32m--> 103\u001b[0;31m         \u001b[0my_zero\u001b[0m \u001b[0;34m=\u001b[0m \u001b[0mint\u001b[0m\u001b[0;34m(\u001b[0m\u001b[0mnp\u001b[0m\u001b[0;34m.\u001b[0m\u001b[0mmedian\u001b[0m\u001b[0;34m(\u001b[0m\u001b[0mfoo\u001b[0m\u001b[0;34m)\u001b[0m\u001b[0;34m)\u001b[0m\u001b[0;34m\u001b[0m\u001b[0m\n\u001b[0m\u001b[1;32m    104\u001b[0m         \u001b[0mself\u001b[0m\u001b[0;34m.\u001b[0m\u001b[0my_zero\u001b[0m \u001b[0;34m=\u001b[0m \u001b[0my_zero\u001b[0m\u001b[0;34m\u001b[0m\u001b[0m\n\u001b[1;32m    105\u001b[0m         \u001b[0;32mreturn\u001b[0m \u001b[0my_zero\u001b[0m\u001b[0;34m\u001b[0m\u001b[0m\n",
      "\u001b[0;31mValueError\u001b[0m: cannot convert float NaN to integer"
     ]
    }
   ],
   "source": [
    "from IPython.display import clear_output\n",
    "tag = 'new'\n",
    "path = 'data/price_history/%s/' % tag\n",
    "filenames =  glob('data/price_history/new/??????????.png')\n",
    "\n",
    "    \n",
    "counter = 0\n",
    "for fname in  filenames:\n",
    "    counter +=1\n",
    "    path_to_save = fname[:-4]+'.json'\n",
    "    if not os.path.exists(path_to_save):\n",
    "        a = camelScrap(fname)\n",
    "        if not a.isempty:\n",
    "            clear_output(wait =True)\n",
    "            a.populate()\n",
    "            print counter,'/',len(filenames), '>>' ,a.label\n",
    "        else:\n",
    "            a.extracted_new = np.array([0,0])\n",
    "    \n",
    "        out = {'data': a.extracted_new.tolist(), 'asin':a.asin, 'label_OCR': a.label}\n",
    "        json.dump(out, open(path_to_save, 'w'), indent=4)\n",
    "        \n",
    "#         or dill:\n",
    "#         out = {'data':a.extracted_new, 'asin':a.asin, 'label_OCR': a.label}\n",
    "#         dill.dump(out, open(path_to_save, 'w'))\n",
    "    \n",
    "    \n",
    "        \n",
    "    \n",
    "    \n",
    "    \n",
    "#     plt.plot(*a.extracted_new[:800,:].T)\n",
    "#     plt.show()\n",
    "    \n",
    "    "
   ]
  },
  {
   "cell_type": "code",
   "execution_count": null,
   "metadata": {},
   "outputs": [],
   "source": [
    "im3 = a.im.crop((45,0,545,16)).resize((1000,34), Image.BILINEAR)\n",
    "im3"
   ]
  },
  {
   "cell_type": "code",
   "execution_count": null,
   "metadata": {},
   "outputs": [],
   "source": [
    "pytesseract.image_to_string(im3,  boxes=False, lang = 'eng', config = r'--psm 7 -c tessedit_char_blacklist=\\\\//')\n",
    "# pytesseract.image_to_string(im3,  boxes=False, lang = 'eng', config = r'--psm 7 -c tessedit_char_whitelist=qwertyuiopasdfghjklzxcvbnM-1234567890')"
   ]
  },
  {
   "cell_type": "code",
   "execution_count": null,
   "metadata": {},
   "outputs": [],
   "source": [
    "print fname\n",
    "filenames[counter-1]"
   ]
  },
  {
   "cell_type": "code",
   "execution_count": null,
   "metadata": {},
   "outputs": [],
   "source": [
    "a = camelScrap(filenames[counter-1])\n",
    "a.populate()\n"
   ]
  },
  {
   "cell_type": "code",
   "execution_count": null,
   "metadata": {},
   "outputs": [],
   "source": [
    "a.setCoordinates()\n",
    "a.find_new()"
   ]
  },
  {
   "cell_type": "code",
   "execution_count": null,
   "metadata": {},
   "outputs": [],
   "source": [
    "a.__dict__"
   ]
  },
  {
   "cell_type": "code",
   "execution_count": null,
   "metadata": {},
   "outputs": [],
   "source": [
    "a.find_new()\n"
   ]
  },
  {
   "cell_type": "code",
   "execution_count": null,
   "metadata": {},
   "outputs": [],
   "source": [
    "plt.plot(a.extracted_new[:,0],a.extracted_new[:,1])\n"
   ]
  },
  {
   "cell_type": "code",
   "execution_count": null,
   "metadata": {},
   "outputs": [],
   "source": []
  },
  {
   "cell_type": "code",
   "execution_count": null,
   "metadata": {},
   "outputs": [],
   "source": [
    "a.__dict__"
   ]
  },
  {
   "cell_type": "code",
   "execution_count": null,
   "metadata": {},
   "outputs": [],
   "source": [
    "# im2 = Image.new('RGBA', (50,30), (255,255,255,0))\n",
    "# im2.paste(image.crop((30,424,90,455)))\n",
    "# im2 = im2.rotate(-45,expand = False,resample=Image.BICUBIC)\n",
    "# plt.imshow(im2)\n",
    "N = 8\n",
    "for i, fname in enumerate(filenames[:N]):\n",
    "    \n",
    "    image = Image.open(fname)\n",
    "    # image.crop((10,20,30,40))\n",
    "    # image.show()\n",
    "    plt.subplot(int(np.ceil(8**.5)), int(np.ceil(8**.5)), i+1)\n",
    "#     plt.imshow(image)\n",
    "    im2 = Image.new('RGBA', (55,35), (255,255,255,0))\n",
    "    im2.paste(image.crop((15,424,100,455)))\n",
    "    im2 = im2.rotate(-45,expand = False,resample=Image.BICUBIC)\n",
    "#     im2 = im2.convert('L') # convert image to monochrome - this works\n",
    "    im2 = im2.resize((im2.width*2,im2.height*2))\n",
    "    im2 = ImageEnhance.Contrast(im2)\n",
    "    im2 = im2.enhance(2)\n",
    "\n",
    "    plt.imshow(im2)\n",
    "\n",
    "    \n",
    "#     display(im2)"
   ]
  },
  {
   "cell_type": "code",
   "execution_count": null,
   "metadata": {},
   "outputs": [],
   "source": [
    "\n",
    "\n",
    "## temp\n",
    "path = 'data/price_history/new/B002D89VHK.json'\n",
    "\n",
    "im = Image.open(path[:-4]+'png')\n",
    "\n",
    "\n",
    "df = pd.read_json(path)\n",
    "# json.load(open(path,'r'))\n",
    "im"
   ]
  },
  {
   "cell_type": "code",
   "execution_count": null,
   "metadata": {},
   "outputs": [],
   "source": [
    "%matplotlib inline\n",
    "\n",
    "import matplotlib.pyplot as plt\n",
    "import matplotlib\n",
    "pdf = pd.DataFrame(np.array([i for i in df.data]))\n",
    "pdf.columns = ['Time', 'Value']\n",
    "pdf.Time =  [datetime.date.fromtimestamp(i) for i in pdf.Time]\n",
    "# pdf.Time = pd.to_datetime(pdf.Time, unit= 's')\n",
    "# pdf.plot()\n",
    "pdf.head()\n",
    "plt.plot(pdf.Time, pdf.Value)\n",
    "plt.xticks(rotation=45)\n",
    "# pdf.dtypes"
   ]
  },
  {
   "cell_type": "code",
   "execution_count": null,
   "metadata": {},
   "outputs": [],
   "source": []
  }
 ],
 "metadata": {
  "kernelspec": {
   "display_name": "Python 2",
   "language": "python",
   "name": "python2"
  },
  "language_info": {
   "codemirror_mode": {
    "name": "ipython",
    "version": 2
   },
   "file_extension": ".py",
   "mimetype": "text/x-python",
   "name": "python",
   "nbconvert_exporter": "python",
   "pygments_lexer": "ipython2",
   "version": "2.7.14"
  }
 },
 "nbformat": 4,
 "nbformat_minor": 2
}
